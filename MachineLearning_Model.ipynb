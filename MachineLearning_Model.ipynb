{
 "cells": [
  {
   "cell_type": "code",
   "execution_count": 2,
   "metadata": {},
   "outputs": [],
   "source": [
    "# Import packages \n",
    "import json\n",
    "import os\n",
    "import pandas as pd\n",
    "import numpy as np\n",
    "\n",
    "# ML packages\n",
    "from sklearn import preprocessing\n",
    "from sklearn.model_selection import train_test_split\n",
    "from sklearn import svm\n",
    "from sklearn.metrics import accuracy_score"
   ]
  },
  {
   "cell_type": "code",
   "execution_count": 66,
   "metadata": {},
   "outputs": [],
   "source": [
    "# Read json file\n",
    "original_df = pd.read_json(\"/data/music_vector_metadata.json\")\n",
    "\n",
    "# Because there are duplicates in column name so we will drop it\n",
    "original_df.drop_duplicates(subset=['track_id'],inplace=True)\n",
    "\n",
    "# We only take vector and characteristic columns\n",
    "unclean_df = original_df[['vector', 'characteristic']]"
   ]
  },
  {
   "cell_type": "code",
   "execution_count": 67,
   "metadata": {},
   "outputs": [
    {
     "name": "stdout",
     "output_type": "stream",
     "text": [
      "<class 'pandas.core.frame.DataFrame'>\n",
      "Index: 57712 entries, 0 to 66530\n",
      "Data columns (total 2 columns):\n",
      " #   Column          Non-Null Count  Dtype \n",
      "---  ------          --------------  ----- \n",
      " 0   vector          57712 non-null  object\n",
      " 1   characteristic  46329 non-null  object\n",
      "dtypes: object(2)\n",
      "memory usage: 1.3+ MB\n"
     ]
    }
   ],
   "source": [
    "# Check for missing values \n",
    "unclean_df.info()"
   ]
  },
  {
   "cell_type": "code",
   "execution_count": 68,
   "metadata": {},
   "outputs": [
    {
     "name": "stderr",
     "output_type": "stream",
     "text": [
      "C:\\Users\\dangk\\AppData\\Local\\Temp\\ipykernel_9756\\907424595.py:2: SettingWithCopyWarning: \n",
      "A value is trying to be set on a copy of a slice from a DataFrame\n",
      "\n",
      "See the caveats in the documentation: https://pandas.pydata.org/pandas-docs/stable/user_guide/indexing.html#returning-a-view-versus-a-copy\n",
      "  unclean_df.dropna(subset=['characteristic'], inplace = True)\n"
     ]
    }
   ],
   "source": [
    "# Drop N/A values in the characteristic\n",
    "unclean_df.dropna(subset=['characteristic'], inplace = True)"
   ]
  },
  {
   "cell_type": "code",
   "execution_count": 69,
   "metadata": {},
   "outputs": [
    {
     "name": "stdout",
     "output_type": "stream",
     "text": [
      "<class 'pandas.core.frame.DataFrame'>\n",
      "Index: 46329 entries, 4 to 66530\n",
      "Data columns (total 2 columns):\n",
      " #   Column          Non-Null Count  Dtype \n",
      "---  ------          --------------  ----- \n",
      " 0   vector          46329 non-null  object\n",
      " 1   characteristic  46329 non-null  object\n",
      "dtypes: object(2)\n",
      "memory usage: 1.1+ MB\n"
     ]
    },
    {
     "data": {
      "text/html": [
       "<div>\n",
       "<style scoped>\n",
       "    .dataframe tbody tr th:only-of-type {\n",
       "        vertical-align: middle;\n",
       "    }\n",
       "\n",
       "    .dataframe tbody tr th {\n",
       "        vertical-align: top;\n",
       "    }\n",
       "\n",
       "    .dataframe thead th {\n",
       "        text-align: right;\n",
       "    }\n",
       "</style>\n",
       "<table border=\"1\" class=\"dataframe\">\n",
       "  <thead>\n",
       "    <tr style=\"text-align: right;\">\n",
       "      <th></th>\n",
       "      <th>vector</th>\n",
       "      <th>characteristic</th>\n",
       "    </tr>\n",
       "  </thead>\n",
       "  <tbody>\n",
       "    <tr>\n",
       "      <th>4</th>\n",
       "      <td>[-0.8194460272789, 0.10938329249620402, 0.4214...</td>\n",
       "      <td>quirky, eclectic, abstract, energetic, passion...</td>\n",
       "    </tr>\n",
       "    <tr>\n",
       "      <th>5</th>\n",
       "      <td>[-0.823113977909088, -0.23747463524341503, 0.2...</td>\n",
       "      <td>introspective, melancholic, energetic, summer,...</td>\n",
       "    </tr>\n",
       "    <tr>\n",
       "      <th>8</th>\n",
       "      <td>[-0.8000821471214291, -0.11462888121604901, 0....</td>\n",
       "      <td></td>\n",
       "    </tr>\n",
       "    <tr>\n",
       "      <th>9</th>\n",
       "      <td>[-0.660261571407318, -0.089793100953102, 0.160...</td>\n",
       "      <td></td>\n",
       "    </tr>\n",
       "    <tr>\n",
       "      <th>10</th>\n",
       "      <td>[-0.722541749477386, 0.068502597510814, 0.2457...</td>\n",
       "      <td></td>\n",
       "    </tr>\n",
       "    <tr>\n",
       "      <th>11</th>\n",
       "      <td>[-0.8456231951713561, -0.12404702603816901, 0....</td>\n",
       "      <td></td>\n",
       "    </tr>\n",
       "    <tr>\n",
       "      <th>12</th>\n",
       "      <td>[-0.742057025432586, 0.010221602395176001, 0.2...</td>\n",
       "      <td></td>\n",
       "    </tr>\n",
       "    <tr>\n",
       "      <th>13</th>\n",
       "      <td>[-0.8483147025108331, -0.09521148353815001, 0....</td>\n",
       "      <td></td>\n",
       "    </tr>\n",
       "    <tr>\n",
       "      <th>14</th>\n",
       "      <td>[-0.7372666597366331, 0.06824257969856201, 0.4...</td>\n",
       "      <td></td>\n",
       "    </tr>\n",
       "    <tr>\n",
       "      <th>15</th>\n",
       "      <td>[-0.7887574434280391, -0.095258809626102, 0.09...</td>\n",
       "      <td></td>\n",
       "    </tr>\n",
       "  </tbody>\n",
       "</table>\n",
       "</div>"
      ],
      "text/plain": [
       "                                               vector  \\\n",
       "4   [-0.8194460272789, 0.10938329249620402, 0.4214...   \n",
       "5   [-0.823113977909088, -0.23747463524341503, 0.2...   \n",
       "8   [-0.8000821471214291, -0.11462888121604901, 0....   \n",
       "9   [-0.660261571407318, -0.089793100953102, 0.160...   \n",
       "10  [-0.722541749477386, 0.068502597510814, 0.2457...   \n",
       "11  [-0.8456231951713561, -0.12404702603816901, 0....   \n",
       "12  [-0.742057025432586, 0.010221602395176001, 0.2...   \n",
       "13  [-0.8483147025108331, -0.09521148353815001, 0....   \n",
       "14  [-0.7372666597366331, 0.06824257969856201, 0.4...   \n",
       "15  [-0.7887574434280391, -0.095258809626102, 0.09...   \n",
       "\n",
       "                                       characteristic  \n",
       "4   quirky, eclectic, abstract, energetic, passion...  \n",
       "5   introspective, melancholic, energetic, summer,...  \n",
       "8                                                      \n",
       "9                                                      \n",
       "10                                                     \n",
       "11                                                     \n",
       "12                                                     \n",
       "13                                                     \n",
       "14                                                     \n",
       "15                                                     "
      ]
     },
     "execution_count": 69,
     "metadata": {},
     "output_type": "execute_result"
    }
   ],
   "source": [
    "# Recheck df \n",
    "unclean_df.info()\n",
    "unclean_df.head(10)"
   ]
  },
  {
   "cell_type": "code",
   "execution_count": 70,
   "metadata": {},
   "outputs": [],
   "source": [
    "# We can see that some records has empty value so we need to process them also\n",
    "clean_df = unclean_df[unclean_df['characteristic']!='']"
   ]
  },
  {
   "cell_type": "code",
   "execution_count": 71,
   "metadata": {},
   "outputs": [
    {
     "data": {
      "text/html": [
       "<div>\n",
       "<style scoped>\n",
       "    .dataframe tbody tr th:only-of-type {\n",
       "        vertical-align: middle;\n",
       "    }\n",
       "\n",
       "    .dataframe tbody tr th {\n",
       "        vertical-align: top;\n",
       "    }\n",
       "\n",
       "    .dataframe thead th {\n",
       "        text-align: right;\n",
       "    }\n",
       "</style>\n",
       "<table border=\"1\" class=\"dataframe\">\n",
       "  <thead>\n",
       "    <tr style=\"text-align: right;\">\n",
       "      <th></th>\n",
       "      <th>vector</th>\n",
       "      <th>characteristic</th>\n",
       "    </tr>\n",
       "  </thead>\n",
       "  <tbody>\n",
       "    <tr>\n",
       "      <th>4</th>\n",
       "      <td>[-0.8194460272789, 0.10938329249620402, 0.4214...</td>\n",
       "      <td>quirky, eclectic, abstract, energetic, passion...</td>\n",
       "    </tr>\n",
       "    <tr>\n",
       "      <th>5</th>\n",
       "      <td>[-0.823113977909088, -0.23747463524341503, 0.2...</td>\n",
       "      <td>introspective, melancholic, energetic, summer,...</td>\n",
       "    </tr>\n",
       "    <tr>\n",
       "      <th>23</th>\n",
       "      <td>[-0.7328528761863701, 0.077868662774562, 0.301...</td>\n",
       "      <td>introspective, calm, ethereal, nature, lush, p...</td>\n",
       "    </tr>\n",
       "    <tr>\n",
       "      <th>24</th>\n",
       "      <td>[-0.551648676395416, 0.077182106673717, 0.1172...</td>\n",
       "      <td>introspective, calm, ethereal, nature, lush, p...</td>\n",
       "    </tr>\n",
       "    <tr>\n",
       "      <th>25</th>\n",
       "      <td>[-0.7803764939308161, 0.030515028163790002, 0....</td>\n",
       "      <td>introspective, calm, ethereal, nature, lush, p...</td>\n",
       "    </tr>\n",
       "    <tr>\n",
       "      <th>26</th>\n",
       "      <td>[-0.601978361606597, -0.017637291923165002, 0....</td>\n",
       "      <td>introspective, calm, ethereal, nature, lush, p...</td>\n",
       "    </tr>\n",
       "    <tr>\n",
       "      <th>27</th>\n",
       "      <td>[-0.6483022570610041, 0.398851931095123, 0.259...</td>\n",
       "      <td>introspective, calm, ethereal, nature, lush, p...</td>\n",
       "    </tr>\n",
       "    <tr>\n",
       "      <th>28</th>\n",
       "      <td>[-0.6882724761962891, -0.07933159172534901, 0....</td>\n",
       "      <td>introspective, calm, ethereal, nature, lush, p...</td>\n",
       "    </tr>\n",
       "    <tr>\n",
       "      <th>29</th>\n",
       "      <td>[-0.6760290861129761, 0.14368520677089602, 0.0...</td>\n",
       "      <td>introspective, calm, ethereal, nature, lush, p...</td>\n",
       "    </tr>\n",
       "    <tr>\n",
       "      <th>30</th>\n",
       "      <td>[-0.809983432292938, 0.132193565368652, 0.2557...</td>\n",
       "      <td>introspective, calm, ethereal, nature, lush, p...</td>\n",
       "    </tr>\n",
       "  </tbody>\n",
       "</table>\n",
       "</div>"
      ],
      "text/plain": [
       "                                               vector  \\\n",
       "4   [-0.8194460272789, 0.10938329249620402, 0.4214...   \n",
       "5   [-0.823113977909088, -0.23747463524341503, 0.2...   \n",
       "23  [-0.7328528761863701, 0.077868662774562, 0.301...   \n",
       "24  [-0.551648676395416, 0.077182106673717, 0.1172...   \n",
       "25  [-0.7803764939308161, 0.030515028163790002, 0....   \n",
       "26  [-0.601978361606597, -0.017637291923165002, 0....   \n",
       "27  [-0.6483022570610041, 0.398851931095123, 0.259...   \n",
       "28  [-0.6882724761962891, -0.07933159172534901, 0....   \n",
       "29  [-0.6760290861129761, 0.14368520677089602, 0.0...   \n",
       "30  [-0.809983432292938, 0.132193565368652, 0.2557...   \n",
       "\n",
       "                                       characteristic  \n",
       "4   quirky, eclectic, abstract, energetic, passion...  \n",
       "5   introspective, melancholic, energetic, summer,...  \n",
       "23  introspective, calm, ethereal, nature, lush, p...  \n",
       "24  introspective, calm, ethereal, nature, lush, p...  \n",
       "25  introspective, calm, ethereal, nature, lush, p...  \n",
       "26  introspective, calm, ethereal, nature, lush, p...  \n",
       "27  introspective, calm, ethereal, nature, lush, p...  \n",
       "28  introspective, calm, ethereal, nature, lush, p...  \n",
       "29  introspective, calm, ethereal, nature, lush, p...  \n",
       "30  introspective, calm, ethereal, nature, lush, p...  "
      ]
     },
     "execution_count": 71,
     "metadata": {},
     "output_type": "execute_result"
    }
   ],
   "source": [
    "# Printing head of the df again\n",
    "clean_df.head(10)"
   ]
  },
  {
   "cell_type": "code",
   "execution_count": 169,
   "metadata": {},
   "outputs": [],
   "source": [
    "# Data is clean, now we will need to turn each of the characteristic into a seperate column\n",
    "expanded = clean_df['characteristic'].str.get_dummies(sep=', ')\n",
    "\n",
    "# Merge the expanded characteristic into the old df\n",
    "df = pd.concat([clean_df.drop('characteristic', axis=1), expanded], axis=1)\n",
    "\n",
    "# Reset index\n",
    "df = df.reset_index(drop=True)\n",
    "\n",
    "# Choose neccessary columns\n",
    "\n",
    "columns_to_exclude = ['abstract', 'anthemic', 'aquatic', 'boastful', 'breakup', 'cryptic', 'death', 'dense', 'dissonant', 'drugs', 'fantasy', 'futuristic', 'hedonistic',\n",
    "                      'humorous', 'mechanical', 'nature', 'nocturnal', 'orchestral', 'party', 'pastoral', 'poetic', 'psychedelic', 'quirky', 'raw', 'rebellious', 'sarcastic',\n",
    "                      'sparse', 'spiritual', 'spring', 'summer', 'triumphant']\n",
    "\n",
    "df = df.drop(columns=columns_to_exclude,axis=1)\n",
    "\n"
   ]
  },
  {
   "cell_type": "markdown",
   "metadata": {},
   "source": [
    "# Machine Learning"
   ]
  },
  {
   "cell_type": "code",
   "execution_count": 170,
   "metadata": {},
   "outputs": [],
   "source": [
    "# Define X and Y \n",
    "\n",
    "X = np.stack(df['vector'].values) # Use np to turn list to array\n",
    "y = df.iloc[:,1:].values\n",
    "\n",
    "# Split data into train and test\n",
    "X_train, X_test, y_train, y_test = train_test_split(X, y, test_size=0.2, random_state=42)\n"
   ]
  },
  {
   "cell_type": "code",
   "execution_count": 178,
   "metadata": {},
   "outputs": [
    {
     "name": "stdout",
     "output_type": "stream",
     "text": [
      "Accuracy: 0.00831234256926952\n"
     ]
    }
   ],
   "source": [
    "from sklearn.tree import DecisionTreeClassifier\n",
    "from sklearn.multioutput import MultiOutputClassifier\n",
    "from sklearn.metrics import accuracy_score\n",
    "\n",
    "classifier = DecisionTreeClassifier(random_state=42)\n",
    "\n",
    "# Wrap the classifier in MultiOutputClassifier for multi-label classification\n",
    "multi_label_classifier = MultiOutputClassifier(classifier, n_jobs=-1)\n",
    "\n",
    "# Train the multi-label classifier\n",
    "multi_label_classifier.fit(X_train, y_train)\n",
    "\n",
    "# Make predictions on the test set\n",
    "y_pred = multi_label_classifier.predict(X_test)\n",
    "\n",
    "# Evaluate the accuracy of the predictions\n",
    "accuracy = accuracy_score(y_test, y_pred)\n",
    "print(\"Accuracy:\", accuracy)"
   ]
  },
  {
   "cell_type": "code",
   "execution_count": 181,
   "metadata": {},
   "outputs": [
    {
     "name": "stdout",
     "output_type": "stream",
     "text": [
      "Accuracy: 0.023551637279596978\n"
     ]
    }
   ],
   "source": [
    "from sklearn.svm import SVC\n",
    "\n",
    "svm_classifier = SVC(kernel='linear', probability=True, random_state = 42)\n",
    "\n",
    "# Wrap the classifier in MultiOutputClassifier for multi-label classification\n",
    "svm_multi_label_classifier = MultiOutputClassifier(svm_classifier, n_jobs=-1)\n",
    "\n",
    "# Train the multi-label classifier\n",
    "svm_multi_label_classifier.fit(X_train, y_train)\n",
    "\n",
    "# Make predictions on the test set\n",
    "y_pred_svm = svm_multi_label_classifier.predict(X_test)\n",
    "\n",
    "# Evaluate the accuracy of the predictions\n",
    "accuracy_svm = accuracy_score(y_test, y_pred_svm)\n",
    "print(\"Accuracy:\", accuracy_svm)"
   ]
  },
  {
   "cell_type": "code",
   "execution_count": 227,
   "metadata": {},
   "outputs": [
    {
     "data": {
      "text/plain": [
       "0.11120906801007557"
      ]
     },
     "execution_count": 227,
     "metadata": {},
     "output_type": "execute_result"
    }
   ],
   "source": [
    "# using Label Powerset\n",
    "from skmultilearn.problem_transform import LabelPowerset\n",
    "\n",
    "# initialize Label Powerset multi-label classifier\n",
    "# with a gaussian naive bayes base classifier\n",
    "classifier = LabelPowerset(SVC(kernel='linear', random_state = 42))\n",
    "\n",
    "# train\n",
    "classifier.fit(X_train, y_train)\n",
    "\n",
    "# predict\n",
    "predictions = classifier.predict(X_test)\n",
    "\n",
    "accuracy_score(y_test,predictions)"
   ]
  },
  {
   "cell_type": "code",
   "execution_count": 235,
   "metadata": {},
   "outputs": [],
   "source": [
    "# Check the first record in test data\n",
    "flattened_array=predictions[0].toarray().flatten()"
   ]
  },
  {
   "cell_type": "code",
   "execution_count": 236,
   "metadata": {},
   "outputs": [],
   "source": [
    "# Create labels list to match with the array\n",
    "\n",
    "columns_list = list(df.columns)\n",
    "\n",
    "labels = columns_list[1:]"
   ]
  },
  {
   "cell_type": "code",
   "execution_count": 237,
   "metadata": {},
   "outputs": [
    {
     "name": "stdout",
     "output_type": "stream",
     "text": [
      "['eclectic', 'lush', 'surreal']\n"
     ]
    }
   ],
   "source": [
    "# Choose index where value is 1\n",
    "indices_with_ones = [index for index, value in enumerate(flattened_array) if value == 1]\n",
    "\n",
    "# Map indices to labels\n",
    "selected_labels = [labels[index] for index in indices_with_ones]\n",
    "\n",
    "print(selected_labels)"
   ]
  },
  {
   "cell_type": "markdown",
   "metadata": {},
   "source": [
    "Based on the accuracy, we will use the LabelPowerSet transform and SVM as the model to predict songs' characteristic"
   ]
  },
  {
   "cell_type": "code",
   "execution_count": 228,
   "metadata": {},
   "outputs": [
    {
     "data": {
      "text/plain": [
       "['multi_char_classifier.joblib']"
      ]
     },
     "execution_count": 228,
     "metadata": {},
     "output_type": "execute_result"
    }
   ],
   "source": [
    "from joblib import dump, load\n",
    "dump(classifier, 'multi_char_classifier.joblib')"
   ]
  },
  {
   "cell_type": "code",
   "execution_count": 296,
   "metadata": {},
   "outputs": [],
   "source": [
    "import pickle\n",
    "\n",
    "with open('multi_char_classifier.pkl', 'wb') as file:\n",
    "    pickle.dump(classifier, file)"
   ]
  }
 ],
 "metadata": {
  "kernelspec": {
   "display_name": "Python 3",
   "language": "python",
   "name": "python3"
  },
  "language_info": {
   "codemirror_mode": {
    "name": "ipython",
    "version": 3
   },
   "file_extension": ".py",
   "mimetype": "text/x-python",
   "name": "python",
   "nbconvert_exporter": "python",
   "pygments_lexer": "ipython3",
   "version": "3.11.7"
  }
 },
 "nbformat": 4,
 "nbformat_minor": 2
}
